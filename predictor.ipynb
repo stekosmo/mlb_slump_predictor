{
 "cells": [
  {
   "cell_type": "markdown",
   "metadata": {},
   "source": [
    "# The \"Slump\" Predictor\n",
    "\n",
    "We look to define, identify, and predict the expected length of a \"slump\" for a given player in a given year. First, let's get some data. The data will be gathered for a previously obtained list of active players (players.csv)\n",
    "\n",
    "(data is now collected and cleaned, skip to 'Import clean data')"
   ]
  },
  {
   "cell_type": "code",
   "execution_count": 56,
   "metadata": {},
   "outputs": [
    {
     "name": "stdout",
     "output_type": "stream",
     "text": [
      "done\n"
     ]
    }
   ],
   "source": [
    "import pandas as pd\n",
    "\n",
    "# List of active players with baseball-reference id\n",
    "master = pd.read_csv('players.csv', encoding='unicode_escape')\n",
    "\n",
    "# Filter out pitchers\n",
    "for index, row in master.iterrows():\n",
    "    if row['mlb_pos'] == 'P':\n",
    "        master.drop(index, inplace=True)\n",
    "\n",
    "# Keep only playerID\n",
    "active = []\n",
    "for index, row in master.iterrows():\n",
    "    if pd.isnull(row['bref_id']):\n",
    "        continue\n",
    "    else:\n",
    "        active.append(row['bref_id'])\n",
    "\n",
    "print('done')"
   ]
  },
  {
   "cell_type": "markdown",
   "metadata": {},
   "source": [
    "Now we get the gamelog info for each active player from baseball-reference.com"
   ]
  },
  {
   "cell_type": "code",
   "execution_count": 57,
   "metadata": {},
   "outputs": [
    {
     "name": "stdout",
     "output_type": "stream",
     "text": [
      "done\n"
     ]
    }
   ],
   "source": [
    "import collections as co\n",
    "import time\n",
    "import requests\n",
    "from bs4 import BeautifulSoup\n",
    "\n",
    "# Create master dataframe\n",
    "log = pd.DataFrame()\n",
    "\n",
    "# Crawl through active players on baseball-reference\n",
    "for playerID in active:\n",
    "    # Catch if no data for 2017\n",
    "    try:\n",
    "        # Get gamelog stat table\n",
    "        url = 'https://www.baseball-reference.com/players/gl.fcgi?id='+str(playerID)+'&t=b&year=2017'\n",
    "        page = requests.get(url)\n",
    "        soup = BeautifulSoup(page.text, 'html.parser')\n",
    "        stat_table = soup.find(lambda tag:\n",
    "                               tag.name == 'table' and\n",
    "                               tag.has_attr('id') and\n",
    "                               tag['id'] == \"batting_gamelogs\") \n",
    "\n",
    "        # Define attributes\n",
    "        table_body = stat_table.find('tbody')\n",
    "        table_head = stat_table.find('thead')\n",
    "        header = []    \n",
    "        for th in table_head.findAll('th'):\n",
    "            key = th.get_text()\n",
    "            header.append(key)\n",
    "\n",
    "        # loop over table to find number of rows with '' in first column\n",
    "        endrows = 0\n",
    "        for tr in stat_table.findAll('tr'):\n",
    "            if tr.findAll('th')[0].get_text() in '':\n",
    "                endrows += 1\n",
    "\n",
    "        rows = len(stat_table.findAll('tr'))\n",
    "        \n",
    "        # Get rid of totals\n",
    "        rows -= endrows\n",
    "\n",
    "        # Turn into dict for df\n",
    "        list_of_dicts = []\n",
    "        for row in range(rows):\n",
    "            the_row = []\n",
    "            try:\n",
    "                table_row = stat_table.findAll('tr')[row]\n",
    "                for tr in table_row:\n",
    "                    value = tr.get_text()\n",
    "                    the_row.append(value)\n",
    "                od = co.OrderedDict(zip(header,the_row))\n",
    "                list_of_dicts.append(od)\n",
    "            except AttributeError:\n",
    "                continue \n",
    "\n",
    "        # Define df and create initial column with playerID\n",
    "        player = pd.DataFrame(list_of_dicts)\n",
    "        player['playerID'] = playerID\n",
    "\n",
    "        # Append player to master\n",
    "        log = pd.concat([log, player])\n",
    "\n",
    "        # Add 1s wait to slow down bbref crawl\n",
    "        time.sleep(1)\n",
    "        \n",
    "    except:\n",
    "        continue\n",
    "\n",
    "print('done')"
   ]
  },
  {
   "cell_type": "markdown",
   "metadata": {},
   "source": [
    "With the data gathered, we now clean the data.\n",
    "\n",
    "Major takeaways: Data, team, and position are encoded. Home vs. Away have been separated, run differential is added, and a colun is added to keep track of the number of innings played"
   ]
  },
  {
   "cell_type": "code",
   "execution_count": 54,
   "metadata": {},
   "outputs": [
    {
     "name": "stdout",
     "output_type": "stream",
     "text": [
      "(50105, 236) \n",
      " done\n"
     ]
    }
   ],
   "source": [
    "# Copy df\n",
    "data = log.copy()\n",
    "\n",
    "# Encode date as number\n",
    "# Dict to convert date to length into season\n",
    "month = {'Apr':0,'May':30,'Jun':61,'Jul':91,'Aug':122,'Sep':153,'Oct':183}\n",
    "\n",
    "# Split into month and day\n",
    "df3 = data['Date'].str.split(' ', expand=True)\n",
    "# Convert month to number\n",
    "df3[0] = df3[0].map(month)\n",
    "\n",
    "# Find and drop nan\n",
    "idx = df3.index[df3.isnull().all(1)]\n",
    "nans = df3.ix[idx]\n",
    "df3 = df3.drop(df3.index[idx])\n",
    "data = data.drop(data.index[idx])\n",
    "\n",
    "# Add month + day to get length into season\n",
    "df3[1] = df3[1].str.extract('(\\d+)').astype(int)\n",
    "data['Date'] = df3[0] + df3[1]\n",
    "\n",
    "# Rename @ column\n",
    "data.rename(columns={data.columns[6]: 'HvA'}, inplace=True)\n",
    "# Change @ to be boolean\n",
    "mask = (data['HvA'].isnull())\n",
    "data['HvA'] = np.where(mask,1,0)\n",
    "\n",
    "# Fix up innings to be just a number\n",
    "data['Inngs'].loc[data['Inngs'] == 'CG'] = '-9'\n",
    "# Split into new df for processing\n",
    "df1 = data['Inngs'].str.split('-', expand=True)\n",
    "df1[1].fillna('1', inplace=True)\n",
    "df1[0].loc[df1[0] == 'GS'] = '1'\n",
    "df1[1].loc[df1[1] == 'GF'] = '9'\n",
    "df1[0].loc[df1[0] == ''] = '1'\n",
    "df1[0].fillna('1', inplace=True)\n",
    "df1[0] = df1[0].str.extract('(\\d+)').astype(int)\n",
    "df1[1] = df1[1].str.extract('(\\d+)').astype(int)\n",
    "# Now redefine original df\n",
    "data['Inngs'] = abs(df1[1] - df1[0]) + 1\n",
    "\n",
    "# Split results into W/L, and run-diff\n",
    "# Redifine W/L as boolean\n",
    "mask = (data['Rslt'].str.contains('W'))\n",
    "data['W/L'] = np.where(mask, 1,0)\n",
    "# Extract scores\n",
    "df2 = data['Rslt'].str.split('-', expand=True)\n",
    "df2.fillna('0', inplace=True)  # filter nan\n",
    "df2[0] = df2[0].str.extract('(\\d+)').astype(int)\n",
    "df2[1] = df2[1].str.extract('(\\d+)').astype(int)\n",
    "# Redefine runDiff\n",
    "data['Rslt'] = df2[0] - df2[1]\n",
    "# Rename results to be runDiff\n",
    "data.rename(columns={'Rslt': 'runDiff'}, inplace=True)\n",
    "\n",
    "# Split Gtm into Gtm and Gmiss\n",
    "df4 = data['Gtm'].str.split('\\(', expand=True)\n",
    "df4.fillna('0', inplace=True)  # filter nan\n",
    "df4[0] = df4[0].str.extract('(\\d+)').astype(int)\n",
    "df4[1] = df4[1].str.extract('(\\d+)').astype(int)\n",
    "data['Gtm'] = df4[0]\n",
    "data['Gmiss'] = df4[1]\n",
    "\n",
    "# Normalize data before one-hot\n",
    "# Columns to be min/max standardized\n",
    "mcols = ['Rk','Gcar','Gtm','Date','runDiff','Inngs','PA','AB','R','H','2B','3B','HR','RBI',\n",
    "         'BB','IBB','SO','HBP','SH','SF','ROE','GDP','SB','CS','BA','OBP','SLG','OPS','BOP',\n",
    "         'aLI','WPA','RE24','DFS(DK)','DFS(FD)','Gmiss']\n",
    "# Now for the min/max transform\n",
    "for col in mcols:\n",
    "    data[col] = data[col]/data[col].max()\n",
    "\n",
    "# One-hot encode team(Tm), opponent(Opp), position(Pos)\n",
    "# Make sure not to encode playerID, we will need that later\n",
    "col = ['Tm','Opp','Pos']\n",
    "data = pd.get_dummies(data,prefix=col,columns=col)\n",
    "\n",
    "# Drop column 1, redundant\n",
    "data = data.drop(data.columns[0],axis=1)\n",
    "\n",
    "# Save clean data\n",
    "data.to_csv('clean_data.csv')\n",
    "\n",
    "print(data.shape, '\\n', 'done')"
   ]
  },
  {
   "cell_type": "markdown",
   "metadata": {},
   "source": [
    "# Import clean data\n",
    "\n",
    "We now refer to the saved csv for future work. This way we do not have to further query baseball reference for our data"
   ]
  },
  {
   "cell_type": "code",
   "execution_count": 26,
   "metadata": {},
   "outputs": [
    {
     "name": "stdout",
     "output_type": "stream",
     "text": [
      "(50105, 237)\n"
     ]
    }
   ],
   "source": [
    "# With the data cleaned, we now can start with the clean csv\n",
    "import pandas as pd\n",
    "import numpy as np\n",
    "\n",
    "clean = pd.read_csv('clean_data.csv', encoding='unicode_escape')\n",
    "\n",
    "print(clean.shape)"
   ]
  },
  {
   "cell_type": "markdown",
   "metadata": {},
   "source": [
    "Now to define a slump. We are usinng OBP as the defining stat as OBP is more telling of overall batting performance than AVG, and the use of a single stat adds simplicity without much of an effect on overall accuracy.\n",
    "\n",
    "To see what drop in OBP should define a slump, we look at the data for the season"
   ]
  },
  {
   "cell_type": "code",
   "execution_count": 38,
   "metadata": {},
   "outputs": [
    {
     "data": {
      "image/png": "[encoded data removed]",
      "text/plain": [
       "<Figure size 432x288 with 1 Axes>"
      ]
     },
     "metadata": {
      "needs_background": "light"
     },
     "output_type": "display_data"
    }
   ],
   "source": [
    "import matplotlib.pyplot as plt\n",
    "\n",
    "# We will split the master df into a dictionary of dfs separated by playerID\n",
    "dfs = dict(tuple(clean.groupby('playerID',as_index=False)))\n",
    "\n",
    "for player, stats in dfs.items():\n",
    "    stats = stats.drop(columns='Unnamed: 0').reset_index(drop=True)\n",
    "    plt.plot(stats.index.values, stats['OBP'])\n",
    "    \n",
    "plt.show()"
   ]
  },
  {
   "cell_type": "markdown",
   "metadata": {},
   "source": [
    "As expected, varience in OBP is extremely high at the start of the season, and starts to stabilize around game 10-20.\n",
    "\n",
    "To account for this, we will look at a 10 game moving average of OBP, this should also take into account a few different series, which would account for anomolies in performance against a specific team.\n",
    "\n",
    "Our marker of a slump will be approximately a 10% drop in performace. To make sure we take into account the start of season varience, this will be defined as 1/3 of a standard deviation"
   ]
  },
  {
   "cell_type": "code",
   "execution_count": 39,
   "metadata": {},
   "outputs": [
    {
     "name": "stdout",
     "output_type": "stream",
     "text": [
      "done\n"
     ]
    }
   ],
   "source": [
    "# Now go through each player and add a new boolean column to say if player is in a slump\n",
    "# Look at OBP 10 game moving average (should take into account 2-3 series)\n",
    "# This column will be used to test our accuracy\n",
    "for player, stats in dfs.items():\n",
    "    # Add column for slump\n",
    "    stats['slump'] = 0\n",
    "    \n",
    "    # Slump definition using OBP\n",
    "    Avg = stats['OBP'].mean()\n",
    "    # rollAvg = stats['OBP'].rolling(10).mean()\n",
    "    # Slump if falls 1/3 StDev (~10%)\n",
    "    StDev = Avg - (stats['OBP'].std()/3)\n",
    "    i=0\n",
    "    for game in stats['OBP']:  # rollAvg:\n",
    "        if game < StDev:\n",
    "            stats.loc[i, 'slump'] = 1\n",
    "        i += 1\n",
    "    \n",
    "    # Get second slump column with length of slump, this is our Y data\n",
    "    stats['sLen'] = 0\n",
    "    sLen = 0\n",
    "    n = len(stats['slump'])\n",
    "    i = 0\n",
    "    for game in stats['slump'].values:\n",
    "        # Continue until a slump is found\n",
    "        if game == 0:\n",
    "            if sLen == 0:\n",
    "                i += 1\n",
    "        # If slump ends before season ends, continue\n",
    "            else:\n",
    "                stats.loc[(i+1)-sLen, 'sLen'] = sLen\n",
    "                sLen = 0\n",
    "                i += 1\n",
    "        # Find slump, add one for each game before season ends\n",
    "        elif game == 1:\n",
    "            if i < n-1:\n",
    "                sLen += 1\n",
    "                i += 1\n",
    "        # If season ends on a slump, end\n",
    "            else:\n",
    "                stats.loc[i-sLen,'sLen'] = sLen+1\n",
    "                break\n",
    "\n",
    "print('done')"
   ]
  },
  {
   "cell_type": "code",
   "execution_count": 123,
   "metadata": {},
   "outputs": [
    {
     "name": "stdout",
     "output_type": "stream",
     "text": [
      "13909.0 13909.0\n"
     ]
    }
   ],
   "source": [
    "# Check how many slumps there are and make sure sLen is correct\n",
    "sLen = 0\n",
    "slump = 0\n",
    "for player, stats in dfs.items():\n",
    "    sLen += stats['sLen'].sum()\n",
    "    slump += stats['slump'].sum()\n",
    "    \n",
    "print(sLen, slump)"
   ]
  },
  {
   "cell_type": "markdown",
   "metadata": {},
   "source": [
    "Split into train and test data"
   ]
  },
  {
   "cell_type": "code",
   "execution_count": 197,
   "metadata": {},
   "outputs": [
    {
     "name": "stdout",
     "output_type": "stream",
     "text": [
      "Done\n"
     ]
    }
   ],
   "source": [
    "# Split players, but factor in number of games played:\n",
    "sortDF = sorted(dfs.keys(), key=lambda item: len(dfs[item]['Unnamed: 0']))\n",
    "\n",
    "# Split test and train, 1:3 ratio, gives 157 test, 469 train\n",
    "test = sortDF[0:][::4]\n",
    "train = list(filter(lambda x: x not in test, sortDF))\n",
    "\n",
    "# TestY and TrainY will be a dictionary of the slump column for each player\n",
    "TestY = {}\n",
    "TestX = {}\n",
    "TrainY = {}\n",
    "TrainX = {}\n",
    "# Go through, handle errors, define y, and drop irrelevant columns for x\n",
    "for player, stats in dfs.items():\n",
    "    stats = stats.fillna(0)\n",
    "    if player in test:\n",
    "        TestY[player] = stats[['slump','sLen']]\n",
    "        TestX[player] = stats.drop(['Unnamed: 0','playerID','slump','sLen'],axis=1)\n",
    "    elif player in train:\n",
    "        TrainY[player] = stats['sLen']\n",
    "        TrainX[player] = stats.drop(['Unnamed: 0','playerID','slump','sLen'],axis=1)\n",
    "\n",
    "print('Done')"
   ]
  },
  {
   "cell_type": "markdown",
   "metadata": {},
   "source": [
    "The testing set should look for the marker of a slump, then use current state to predict expected slump length. (slumps can happen at any time, so the predictor should be memoryless beyond the moving average, similar to a arkov chain)."
   ]
  },
  {
   "cell_type": "markdown",
   "metadata": {},
   "source": [
    "We will use a random forest for out prediction, as it is less prone to overfitting. The sklearn code has been edited to include PCA to compute optimal feature weights while building the forest"
   ]
  },
  {
   "cell_type": "code",
   "execution_count": 198,
   "metadata": {},
   "outputs": [
    {
     "name": "stdout",
     "output_type": "stream",
     "text": [
      "Done\n"
     ]
    }
   ],
   "source": [
    "from sklearn.ensemble import RandomForestRegressor as rfr\n",
    "\n",
    "# Note: adding trees adds accuracy without risk of overfitting,\n",
    "# So we use as many trees as the cpu can reasonably handle\n",
    "rf = rfr(n_estimators=1000, random_state=42)\n",
    "\n",
    "# Now train the model\n",
    "for player, stats in TrainX.items():\n",
    "    x = TrainX[player]\n",
    "    y = TrainY[player]\n",
    "    rf.fit(x, y)\n",
    "    \n",
    "print('Done')"
   ]
  },
  {
   "cell_type": "markdown",
   "metadata": {},
   "source": [
    "Finally, we can check the accuracy of our leanrer. To do this, we take the predicted sLen for the test data, expand the slump lengths into a boolean similar to the slump column, and compare the expanded column to the actual slump column."
   ]
  },
  {
   "cell_type": "code",
   "execution_count": 199,
   "metadata": {},
   "outputs": [
    {
     "name": "stdout",
     "output_type": "stream",
     "text": [
      "Accuracy = 77.56501328062265 %\n"
     ]
    }
   ],
   "source": [
    "# Use predictor on test\n",
    "sLen_hat = {}\n",
    "for player, stats in TestX.items():\n",
    "    x = TestX[player]\n",
    "    pred = rf.predict(x)\n",
    "    sLen_hat[player] = pred\n",
    "    \n",
    "# Expand sLen_hat\n",
    "n = 0 # Total comparisons\n",
    "num_diff = 0 # Total differences\n",
    "for player, pred in sLen_hat.items():\n",
    "    # Initialize boolean slump column\n",
    "    slump_hat = []\n",
    "    # Go through sLen_hat\n",
    "    i = 0\n",
    "    for each in pred:\n",
    "        # When a slump is detected, check length, and use as range of change\n",
    "        # Some quirk switched the boolean in the learning, so we swap it here\n",
    "        if each != 0:\n",
    "            # Preditions are not int, so we will round\n",
    "            length = int(each)\n",
    "            slump_hat[i:] = ([1]*length)\n",
    "        else:\n",
    "            slump_hat[i:] = [0]\n",
    "        i += 1\n",
    "    # If predicted slump extends longer than season, truncate list\n",
    "    del slump_hat[len(pred):]\n",
    "\n",
    "    # Compare test slump_hat to test slump\n",
    "    Yslump = TestY[player]['slump'].values\n",
    "    diff = [abs(y_i - h_i) for y_i, h_i in zip(Yslump, slump_hat)]\n",
    "    num_diff += sum(diff)\n",
    "    '''i=0\n",
    "    for each in Yslump:\n",
    "        if each != slump_hat[i]:\n",
    "            num_diff += 1\n",
    "        i+=1'''\n",
    "    n += len(Yslump)\n",
    "    \n",
    "finErr = num_diff / n * 100\n",
    "\n",
    "print(\"Accuracy =\", 100-finErr, \"%\")"
   ]
  },
  {
   "cell_type": "markdown",
   "metadata": {},
   "source": [
    "# END"
   ]
  }
 ],
 "metadata": {
  "kernelspec": {
   "display_name": "Python 3",
   "language": "python",
   "name": "python3"
  },
  "language_info": {
   "codemirror_mode": {
    "name": "ipython",
    "version": 3
   },
   "file_extension": ".py",
   "mimetype": "text/x-python",
   "name": "python",
   "nbconvert_exporter": "python",
   "pygments_lexer": "ipython3",
   "version": "3.7.0"
  }
 },
 "nbformat": 4,
 "nbformat_minor": 2
}
